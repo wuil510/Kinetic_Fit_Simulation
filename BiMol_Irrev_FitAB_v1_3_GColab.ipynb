{
  "nbformat": 4,
  "nbformat_minor": 0,
  "metadata": {
    "colab": {
      "provenance": [],
      "include_colab_link": true
    },
    "kernelspec": {
      "name": "python3",
      "display_name": "Python 3"
    },
    "language_info": {
      "name": "python"
    }
  },
  "cells": [
    {
      "cell_type": "markdown",
      "metadata": {
        "id": "view-in-github",
        "colab_type": "text"
      },
      "source": [
        "<a href=\"https://colab.research.google.com/github/yilinearity/Kinetic_Fit_Simulation/blob/main/BiMol_Irrev_FitAB_v1_3_GColab.ipynb\" target=\"_parent\"><img src=\"https://colab.research.google.com/assets/colab-badge.svg\" alt=\"Open In Colab\"/></a>"
      ]
    },
    {
      "cell_type": "markdown",
      "source": [
        "# **Fitting Kinetic Data to a + b > c (Irreversible)**\n",
        "\n",
        "```\n",
        "d[a]/dt = -k * [a] * [b]\n",
        "d[b]/dt = -k * [a] * [b]\n",
        "rate constant = k\n",
        "```\n",
        "\n",
        "The input data should be in a csv format, with three columns **Time, [A], and [B]**. The presence of the fourth column **[C]** is optional. The first row is the heading row.\n",
        "\n",
        "(Another Jupyter Notebook 'BiMol_Irrev_FitABC_v1.3.ipynb' will make use of [C] for fitting.)\n",
        "\n",
        "## **To Use**\n",
        "The script has two cells; <font color='blue'>click on the **run** icon (on the left side of the code) to run each cell.</font>\n",
        "\n",
        "In the first cell, the data csv file will be first imported (uploaded), and a slider will show up to select a good initial value of ***k_initial***. Note that this ***k_initial*** is the exponent of ***k*** (i.e. *k* = 10^(***k_initial***)). The current range is set between (-10.0, 3.0); change it to suit your need. A good initial value for ***k*** will ensure the successful fit of the data set.\n",
        "\n",
        "The value of ***k_initial*** is then used in the second cell to complete the fitting routine, which made use of `odeint` from `scipy.integrate`. Finally, the results are saved and exported as a csv (in Google drive); the rate constant ***k*** will be displayed on the screen. Modify the path of the Google Drive folder if needed. (Be patient, the saving takes time on Google Drive.)\n",
        "\n",
        "<br>\n",
        "\n",
        "---\n",
        "MIT License Copyright (c) 2023 Yi-Lin Wu (yilinearity@gmail.com) <br>\n",
        "Full text of the MIT License can be found at: https://opensource.org/licenses/MIT"
      ],
      "metadata": {
        "id": "p7hm-ZWi3LLV"
      }
    },
    {
      "cell_type": "code",
      "execution_count": null,
      "metadata": {
        "id": "QrDyZdD7rbkm"
      },
      "outputs": [],
      "source": [
        "import os\n",
        "import numpy as np\n",
        "from scipy.integrate import odeint\n",
        "import matplotlib.pyplot as plt\n",
        "import pandas as pd\n",
        "from scipy.optimize import curve_fit\n",
        "from ipywidgets import interactive\n",
        "\n",
        "# Define the system of ODEs\n",
        "def system(y, t, k):\n",
        "    a, b = y\n",
        "    dadt = -k * a * b\n",
        "    dbdt = -k * a * b\n",
        "    return [dadt, dbdt]\n",
        "\n",
        "# Function to upload and process the CSV file\n",
        "def process_uploaded_file(uploaded_file):\n",
        "    data = pd.read_csv(uploaded_file)\n",
        "    t = data.iloc[:, 0]\n",
        "    a = data.iloc[:, 1]\n",
        "    b = data.iloc[:, 2]\n",
        "    return t, a, b\n",
        "\n",
        "# Initialize the k variable as a global variable\n",
        "k = 10**(-7)\n",
        "\n",
        "def plot(k_initial=-7):\n",
        "    global k  # Declare k as a global variable\n",
        "    k = 10**k_initial  # Update the global k value\n",
        "\n",
        "    # Check if the data is available\n",
        "    if 't' not in globals() or 'a' not in globals() or 'b' not in globals():\n",
        "        print(\"Please upload a CSV file first.\")\n",
        "        return\n",
        "\n",
        "    # Solve the system of ODEs with the global k value\n",
        "    sol = odeint(system, [a[0], b[0]], t, args=(k,))\n",
        "    a_fit = sol[:, 0]\n",
        "    b_fit = sol[:, 1]\n",
        "\n",
        "    # Plot the results\n",
        "    plt.plot(t, a, 'o', label='a (data)')\n",
        "    plt.plot(t, b, 'o', label='b (data)')\n",
        "    plt.plot(t, a_fit, label='a (fit)')\n",
        "    plt.plot(t, b_fit, label='b (fit)')\n",
        "    plt.legend()\n",
        "    plt.show()\n",
        "\n",
        "    return k_initial\n",
        "\n",
        "# Use Colab's file upload feature to upload the CSV file\n",
        "from google.colab import files\n",
        "uploaded = files.upload()\n",
        "\n",
        "# Process the uploaded file\n",
        "for filename in uploaded.keys():\n",
        "    t, a, b = process_uploaded_file(filename)\n",
        "\n",
        "# Create the interactive plot widget\n",
        "w = interactive(plot, k_initial=(-10.0, 3.0))\n",
        "w\n"
      ]
    },
    {
      "cell_type": "code",
      "source": [
        "from google.colab import drive\n",
        "\n",
        "k_exp = w.kwargs['k_initial']\n",
        "\n",
        "print(f\"The initial value of k is: {10**k_exp:.2f}\")\n",
        "\n",
        "def fit_k(x, k):\n",
        "    sol = odeint(system, [a[0], b[0]], t, args=(k,))\n",
        "    return (sol[:, 0] - a)**2 + (sol[:, 1] - b)**2\n",
        "\n",
        "k_initial = 10**k_exp\n",
        "popt, pcov = curve_fit(fit_k, xdata=None, ydata=np.zeros_like(t), p0=[k_initial], method='lm')\n",
        "k = popt[0]\n",
        "perr = np.sqrt(np.diag(pcov))\n",
        "\n",
        "sol = odeint(system, [a[0], b[0]], t, args=(k,))\n",
        "a_fit = sol[:, 0]\n",
        "b_fit = sol[:, 1]\n",
        "\n",
        "plt.plot(t, a, 'o', label='a (data)')\n",
        "plt.plot(t, b, 'o', label='b (data)')\n",
        "plt.plot(t, a_fit, label='a (fit)')\n",
        "plt.plot(t, b_fit, label='b (fit)')\n",
        "plt.legend()\n",
        "plt.show()\n",
        "\n",
        "# Display the results\n",
        "print(f\"k = {k:.4e} ± {perr[0]:.4e}\")\n",
        "\n",
        "output = pd.DataFrame({'t': t, 'a': a, 'b': b, 'a_fit': a_fit, 'b_fit': b_fit})\n",
        "print(output)\n",
        "\n",
        "# Save the DataFrame to a CSV file in Google Drive\n",
        "drive.mount('/content/drive')\n",
        "output.to_csv('/content/drive/My Drive/results/BiMol_Irrev_Fit_AB.csv', sep=\",\", index=False)\n"
      ],
      "metadata": {
        "id": "uA9fXrjkyVku"
      },
      "execution_count": null,
      "outputs": []
    }
  ]
}