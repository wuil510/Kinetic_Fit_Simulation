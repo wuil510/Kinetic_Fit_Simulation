{
  "nbformat": 4,
  "nbformat_minor": 0,
  "metadata": {
    "colab": {
      "provenance": [],
      "include_colab_link": true
    },
    "kernelspec": {
      "name": "python3",
      "display_name": "Python 3"
    },
    "language_info": {
      "name": "python"
    }
  },
  "cells": [
    {
      "cell_type": "markdown",
      "metadata": {
        "id": "view-in-github",
        "colab_type": "text"
      },
      "source": [
        "<a href=\"https://colab.research.google.com/github/yilinearity/Kinetic_Fit_Simulation/blob/main/Arrhenius_k_vs_T_v1_0_GColab.ipynb\" target=\"_parent\"><img src=\"https://colab.research.google.com/assets/colab-badge.svg\" alt=\"Open In Colab\"/></a>"
      ]
    },
    {
      "cell_type": "markdown",
      "source": [
        "# **Temperature-dependence of Rate Constants**\n",
        "\n",
        "This simple script compares the temperature-dependent rate constants (*k*) of two reactions of different activation barriers, assuming the Arrhenius behavior:\n",
        "\n",
        "k = A exp(-E<sub>a</sub>/RT)\n",
        "\n",
        "where:\n",
        "- k is the rate constant.\n",
        "- A is the pre-exponential factor.\n",
        "- E<sub>a</sub> is the activation energy in kcal/mol.\n",
        "- R is the gas constant (8.314 J/(mol·K) or 1.987 cal/(mol·K)).\n",
        "- T is the temperature in Kelvin.\n",
        "\n",
        "In the code below, A is set to 1 (which can be modified), temperature is in degree Celcius, and k is ploted in log scale\n",
        "\n",
        "\n",
        "The two Ea are defined in the lines\n",
        "\n",
        "```\n",
        "activation_energy1_kcal_per_mol = 10.0\n",
        "activation_energy2_kcal_per_mol = 40.0\n",
        "```\n",
        "\n",
        "These values can be modified. <font color='blue'>Click on the **run** icon (on the left side of the code) to run script.</font>\n",
        "\n",
        "<br>\n",
        "\n",
        "---\n",
        "MIT License Copyright (c) 2023 Yi-Lin Wu (yilinearity@gmail.com) <br>\n",
        "Full text of the MIT License can be found at: https://opensource.org/licenses/MIT"
      ],
      "metadata": {
        "id": "GJhJS22WHLd-"
      }
    },
    {
      "cell_type": "code",
      "execution_count": null,
      "metadata": {
        "id": "SWeJbTifFMOp"
      },
      "outputs": [],
      "source": [
        "import numpy as np\n",
        "import matplotlib.pyplot as plt\n",
        "\n",
        "# Constants\n",
        "gas_constant_cal_per_mol_per_K = 1.987  # Gas constant in cal/(mol·K)\n",
        "pre_exponential_factor = 1.0  # Your pre-exponential factor (A)\n",
        "\n",
        "# Convert activation energies to cal/mol\n",
        "activation_energy1_kcal_per_mol = 10.0\n",
        "activation_energy2_kcal_per_mol = 40.0\n",
        "activation_energy1_cal_per_mol = activation_energy1_kcal_per_mol * 1000  # 1 kcal = 1000 cal\n",
        "activation_energy2_cal_per_mol = activation_energy2_kcal_per_mol * 1000  # 1 kcal = 1000 cal\n",
        "\n",
        "# Define a range of temperatures in Celsius\n",
        "temperature_range_C = np.linspace(25, 300, 100)  # Adjust the temperature range as needed\n",
        "\n",
        "# Convert temperatures to Kelvin\n",
        "temperature_range_K = temperature_range_C + 273.15\n",
        "\n",
        "# Calculate the rate constants for each temperature with two different activation energies\n",
        "rate_constants1 = pre_exponential_factor * np.exp(-activation_energy1_cal_per_mol / (gas_constant_cal_per_mol_per_K * temperature_range_K))\n",
        "rate_constants2 = pre_exponential_factor * np.exp(-activation_energy2_cal_per_mol / (gas_constant_cal_per_mol_per_K * temperature_range_K))\n",
        "\n",
        "# Create a log-log plot\n",
        "plt.figure(figsize=(8, 6))\n",
        "plt.semilogy(temperature_range_C, rate_constants1, label='Ea = 10 kcal/mol', marker='o', linestyle='-')\n",
        "plt.semilogy(temperature_range_C, rate_constants2, label='Ea = 40 kcal/mol', marker='s', linestyle='--')\n",
        "plt.xlabel('Temperature (°C)')\n",
        "plt.ylabel('Rate Constant (log10 k)')\n",
        "plt.title('Rate Constant vs. Temperature')\n",
        "plt.grid(True)\n",
        "plt.legend()\n",
        "\n",
        "# Show the plot\n",
        "plt.show()\n"
      ]
    }
  ]
}